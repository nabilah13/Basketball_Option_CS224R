{
 "cells": [
  {
   "cell_type": "code",
   "execution_count": 31,
   "metadata": {},
   "outputs": [
    {
     "name": "stdout",
     "output_type": "stream",
     "text": [
      "24935\n",
      "4987\n"
     ]
    }
   ],
   "source": [
    "import pandas as pd\n",
    "\n",
    "# Specify the name of the csv file\n",
    "filename = 'processed_data/nba_games_2018-19.csv'\n",
    "\n",
    "# Specify the columns you want to read\n",
    "columns_to_read = ['Player', 'GameId', 'CumulativePlayerPointsInterval', 'RollingAvgPlayerPointsInterval']#, 'Excercise'] #change last column for whatever this bool looks like\n",
    "\n",
    "# Use pandas to read the csv file\n",
    "data = pd.read_csv(filename, usecols=columns_to_read)\n",
    "nrows = len(data)\n",
    "ngames = int(nrows/5)\n",
    "\n",
    "# Print the data\n",
    "print(nrows)\n",
    "print(ngames)"
   ]
  },
  {
   "cell_type": "code",
   "execution_count": 14,
   "metadata": {},
   "outputs": [],
   "source": [
    "def evaluate_policy(data, ngames):\n",
    "    value = 0\n",
    "    for i in range(ngames):\n",
    "        df = data[(i*5):((i*5)+5)]\n",
    "        for index, row in df.iterrows():\n",
    "            if row['Excercise']:\n",
    "                value = row['CumulativePlayerPointsInterval'] - row['RollingAvgPlayerPointsInterval']\n",
    "    value = value/ngames\n",
    "    return value"
   ]
  }
 ],
 "metadata": {
  "kernelspec": {
   "display_name": "base",
   "language": "python",
   "name": "python3"
  },
  "language_info": {
   "codemirror_mode": {
    "name": "ipython",
    "version": 3
   },
   "file_extension": ".py",
   "mimetype": "text/x-python",
   "name": "python",
   "nbconvert_exporter": "python",
   "pygments_lexer": "ipython3",
   "version": "3.9.7"
  },
  "orig_nbformat": 4
 },
 "nbformat": 4,
 "nbformat_minor": 2
}
