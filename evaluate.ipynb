{
 "cells": [
  {
   "cell_type": "code",
   "execution_count": 67,
   "metadata": {},
   "outputs": [],
   "source": [
    "# #load player/game data\n",
    "# import pandas as pd\n",
    "\n",
    "# # Specify the name of the csv file\n",
    "# filename = 'processed_data/nba_games_2018-19.csv'\n",
    "\n",
    "# # Specify the columns you want to read\n",
    "# columns_to_read = ['Player', 'GameId', 'CumulativePlayerPointsInterval']#, 'RollingAvgPlayerPointsInterval']#, 'Excercise'] #change last column for whatever this bool looks like\n",
    "\n",
    "# # Use pandas to read the csv file\n",
    "# player_data = pd.read_csv(filename, usecols=columns_to_read)\n",
    "# nrows = len(player_data)\n",
    "# ngames = int(nrows/5)\n",
    "\n",
    "# # Print the data\n",
    "# print(nrows)\n",
    "# print(ngames)"
   ]
  },
  {
   "cell_type": "code",
   "execution_count": 36,
   "metadata": {},
   "outputs": [
    {
     "name": "stdout",
     "output_type": "stream",
     "text": [
      "21660\n",
      "4332\n"
     ]
    }
   ],
   "source": [
    "#load scored data\n",
    "# Specify the name of the csv file\n",
    "filename = 'scored_data/scored_nba_games_2019-20.csv'\n",
    "\n",
    "# Specify the columns you want to read\n",
    "#columns_to_read = ['Player', 'GameId', 'CumulativePlayerPointsInterval', 'RollingAvgPlayerPointsInterval']#, 'Excercise'] #change last column for whatever this bool looks like\n",
    "\n",
    "# Use pandas to read the csv file\n",
    "scored_data = pd.read_csv(filename)#, usecols=columns_to_read)\n",
    "nrows = len(scored_data)\n",
    "ngames = int(nrows/5)\n",
    "\n",
    "# Print the data\n",
    "print(nrows)\n",
    "print(ngames)"
   ]
  },
  {
   "cell_type": "code",
   "execution_count": 51,
   "metadata": {},
   "outputs": [],
   "source": [
    "def calculate_reward(data, ngames):\n",
    "    value = 0\n",
    "    for i in range(ngames):\n",
    "        df = data[(i*5):((i*5)+5)]\n",
    "        for index, row in df.iterrows():\n",
    "            if row['exercise']:\n",
    "                value += row['reward']\n",
    "                break\n",
    "    value = value/ngames\n",
    "    return value"
   ]
  },
  {
   "cell_type": "code",
   "execution_count": 65,
   "metadata": {},
   "outputs": [],
   "source": [
    "def calculate_profit(data, ngames):\n",
    "    value = 0\n",
    "    for i in range(ngames):\n",
    "        df = data[(i*5):((i*5)+5)]\n",
    "        reward = 0\n",
    "        q_val = 0\n",
    "        for index, row in df.iterrows():\n",
    "            q_val = df.at[i*5, 'q_score']\n",
    "            if row['exercise']:\n",
    "                reward = row['reward']\n",
    "                break\n",
    "        value += reward - q_val\n",
    "    value = value/ngames\n",
    "    return value"
   ]
  },
  {
   "cell_type": "code",
   "execution_count": 52,
   "metadata": {},
   "outputs": [
    {
     "data": {
      "text/plain": [
       "2.787504548545871"
      ]
     },
     "execution_count": 52,
     "metadata": {},
     "output_type": "execute_result"
    }
   ],
   "source": [
    "calculate_reward(scored_data, ngames)"
   ]
  },
  {
   "cell_type": "code",
   "execution_count": 66,
   "metadata": {},
   "outputs": [
    {
     "data": {
      "text/plain": [
       "-0.7751096215372241"
      ]
     },
     "execution_count": 66,
     "metadata": {},
     "output_type": "execute_result"
    }
   ],
   "source": [
    "calculate_profit(scored_data, ngames)"
   ]
  },
  {
   "cell_type": "code",
   "execution_count": 73,
   "metadata": {},
   "outputs": [],
   "source": [
    "#calculate distribution of quarters that excercises at\n",
    "from collections import Counter\n",
    "\n",
    "def exercise_distr(data, ngames):\n",
    "    values = []\n",
    "    for i in range(ngames):\n",
    "        df = data[(i*5):((i*5)+5)]\n",
    "        for index, row in df.iterrows():\n",
    "            if row['exercise']:\n",
    "                values.append(index - (i*5)) \n",
    "                break\n",
    "    values = dict(Counter(values))\n",
    "    return values"
   ]
  },
  {
   "cell_type": "code",
   "execution_count": 74,
   "metadata": {},
   "outputs": [
    {
     "data": {
      "text/plain": [
       "{4: 3465, 3: 342, 2: 312, 1: 213}"
      ]
     },
     "execution_count": 74,
     "metadata": {},
     "output_type": "execute_result"
    }
   ],
   "source": [
    "exercise_distr(scored_data, ngames)"
   ]
  }
 ],
 "metadata": {
  "kernelspec": {
   "display_name": "base",
   "language": "python",
   "name": "python3"
  },
  "language_info": {
   "codemirror_mode": {
    "name": "ipython",
    "version": 3
   },
   "file_extension": ".py",
   "mimetype": "text/x-python",
   "name": "python",
   "nbconvert_exporter": "python",
   "pygments_lexer": "ipython3",
   "version": "3.9.7"
  },
  "orig_nbformat": 4
 },
 "nbformat": 4,
 "nbformat_minor": 2
}
